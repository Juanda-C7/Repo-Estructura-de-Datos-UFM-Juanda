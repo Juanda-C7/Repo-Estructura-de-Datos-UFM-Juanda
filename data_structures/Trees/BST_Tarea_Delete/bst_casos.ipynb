{
 "cells": [
  {
   "cell_type": "markdown",
   "metadata": {},
   "source": [
    "### < Delete Binary Search Tree >\n",
    "---\n",
    "\n",
    "< Juan David Contreras >  \n",
    "< 20240554 >"
   ]
  },
  {
   "cell_type": "code",
   "execution_count": 1,
   "metadata": {},
   "outputs": [],
   "source": [
    "from bst import BinarySearchTree"
   ]
  },
  {
   "cell_type": "code",
   "execution_count": 2,
   "metadata": {},
   "outputs": [],
   "source": [
    "tree = BinarySearchTree()"
   ]
  },
  {
   "cell_type": "code",
   "execution_count": 3,
   "metadata": {},
   "outputs": [],
   "source": [
    "vals = [41, 18, 10, 6, 2, 7, 16, 12, 28, 23, 22, 39, 30, 81, 55, 51, 42, 53, 75, 66, 89, 87, 85, 97, 91] \n",
    "\n",
    "for val in vals:\n",
    "    tree.insert(val)"
   ]
  },
  {
   "cell_type": "code",
   "execution_count": 4,
   "metadata": {},
   "outputs": [
    {
     "name": "stdout",
     "output_type": "stream",
     "text": [
      "\n",
      "           __________41_____________\n",
      "          /                         \\\n",
      "     ____18_____               ____81_____\n",
      "    /           \\             /           \\\n",
      "  _10___       28___       __55___       89___\n",
      " /      \\     /     \\     /       \\     /     \\\n",
      " 6     16    23    39    51_     75    87    97\n",
      "/ \\   /     /     /     /   \\   /     /     /\n",
      "2 7  12    22    30    42  53  66    85    91\n"
     ]
    }
   ],
   "source": [
    "tree.print_pretty()"
   ]
  },
  {
   "cell_type": "markdown",
   "metadata": {},
   "source": [
    "## Delete - caso no. 1\n",
    "\n",
    "Eliminar un leaf node"
   ]
  },
  {
   "cell_type": "code",
   "execution_count": 5,
   "metadata": {},
   "outputs": [
    {
     "name": "stdout",
     "output_type": "stream",
     "text": [
      "\n",
      "         __________41_____________\n",
      "        /                         \\\n",
      "     __18_____               ____81_____\n",
      "    /         \\             /           \\\n",
      "  _10_       28___       __55___       89___\n",
      " /    \\     /     \\     /       \\     /     \\\n",
      " 6   16    23    39    51_     75    87    97\n",
      "/ \\       /     /     /   \\   /     /     /\n",
      "2 7      22    30    42  53  66    85    91\n"
     ]
    }
   ],
   "source": [
    "tree.delete(12)\n",
    "tree.print_pretty()"
   ]
  },
  {
   "cell_type": "markdown",
   "metadata": {},
   "source": [
    "## Delete - caso no. 2\n",
    "\n",
    "Eliminar un nodo con 1 hijo"
   ]
  },
  {
   "cell_type": "code",
   "execution_count": 6,
   "metadata": {},
   "outputs": [
    {
     "name": "stdout",
     "output_type": "stream",
     "text": [
      "\n",
      "         __________41_____________\n",
      "        /                         \\\n",
      "     __18_____               ____81___\n",
      "    /         \\             /         \\\n",
      "  _10_       28___       __55___     89___\n",
      " /    \\     /     \\     /       \\   /     \\\n",
      " 6   16    23    39    51_     75  85    97\n",
      "/ \\       /     /     /   \\   /         /\n",
      "2 7      22    30    42  53  66        91\n"
     ]
    }
   ],
   "source": [
    "tree.delete(87)\n",
    "tree.print_pretty()"
   ]
  },
  {
   "cell_type": "markdown",
   "metadata": {},
   "source": [
    "## Delete - caso no. 3\n",
    "\n",
    "Eliminar un nodo con 2 hijos usando in-order predecessor"
   ]
  },
  {
   "cell_type": "code",
   "execution_count": 7,
   "metadata": {},
   "outputs": [
    {
     "name": "stdout",
     "output_type": "stream",
     "text": [
      "\n",
      "         __________41___________\n",
      "        /                       \\\n",
      "     __18_____             ____81___\n",
      "    /         \\           /         \\\n",
      "  _10_       28___       53___     89___\n",
      " /    \\     /     \\     /     \\   /     \\\n",
      " 6   16    23    39    51    75  85    97\n",
      "/ \\       /     /     /     /         /\n",
      "2 7      22    30    42    66        91\n"
     ]
    }
   ],
   "source": [
    "tree.delete(55)\n",
    "tree.print_pretty()"
   ]
  },
  {
   "cell_type": "markdown",
   "metadata": {},
   "source": [
    "---"
   ]
  }
 ],
 "metadata": {
  "kernelspec": {
   "display_name": "Python 3",
   "language": "python",
   "name": "python3"
  },
  "language_info": {
   "codemirror_mode": {
    "name": "ipython",
    "version": 3
   },
   "file_extension": ".py",
   "mimetype": "text/x-python",
   "name": "python",
   "nbconvert_exporter": "python",
   "pygments_lexer": "ipython3",
   "version": "3.13.2"
  }
 },
 "nbformat": 4,
 "nbformat_minor": 2
}
